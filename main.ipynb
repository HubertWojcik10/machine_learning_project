{
 "cells": [
  {
   "cell_type": "code",
   "execution_count": 1,
   "metadata": {},
   "outputs": [],
   "source": [
    "import numpy as np\n",
    "import pandas as pd\n",
    "import matplotlib.pyplot as plt\n",
    "import seaborn as sns\n",
    "import warnings"
   ]
  },
  {
   "cell_type": "code",
   "execution_count": 2,
   "metadata": {},
   "outputs": [],
   "source": [
    "warnings.filterwarnings('ignore')"
   ]
  },
  {
   "cell_type": "code",
   "execution_count": 3,
   "metadata": {},
   "outputs": [],
   "source": [
    "sns.set_theme(style='whitegrid')"
   ]
  },
  {
   "cell_type": "markdown",
   "metadata": {},
   "source": [
    "#### Define global variables"
   ]
  },
  {
   "cell_type": "code",
   "execution_count": 4,
   "metadata": {},
   "outputs": [],
   "source": [
    "NAMES = ['T-shirt/top', 'Trouser', 'Pullover', 'Dress', 'Shirt']"
   ]
  },
  {
   "cell_type": "markdown",
   "metadata": {},
   "source": [
    "## Load the data"
   ]
  },
  {
   "cell_type": "code",
   "execution_count": 5,
   "metadata": {},
   "outputs": [],
   "source": [
    "train = np.load('fashion_train.npy')\n",
    "test = np.load('fashion_test.npy')\n",
    "\n",
    "X_train, y_train = train[:, :784], train[:, 784]\n",
    "X_test, y_test = test[:, :784], test[:, 784]"
   ]
  },
  {
   "cell_type": "markdown",
   "metadata": {},
   "source": [
    "# Exploratory Data Analysis"
   ]
  },
  {
   "cell_type": "markdown",
   "metadata": {},
   "source": [
    "#### Numerical variables"
   ]
  },
  {
   "cell_type": "code",
   "execution_count": 6,
   "metadata": {},
   "outputs": [
    {
     "name": "stdout",
     "output_type": "stream",
     "text": [
      "Shape of the training data: (10000, 784)\n",
      "Shape of the testing data: (5000, 784)\n",
      "\n",
      "Mean of the training data: 77.02673711734694\n",
      "Standard Deviation of the training data: 89.9969501937854\n",
      "\n",
      "Min of the training data: 0\n",
      "Max of the training data: 255\n"
     ]
    }
   ],
   "source": [
    "#shape of the data\n",
    "print(f'Shape of the training data: {X_train.shape}')\n",
    "print(f'Shape of the testing data: {X_test.shape}')\n",
    "\n",
    "#mean, std, min, max\n",
    "print(f'\\nMean of the training data: {X_train.mean()}')\n",
    "print(f'Standard Deviation of the training data: {X_train.std()}')\n",
    "\n",
    "print(f'\\nMin of the training data: {X_train.min()}')\n",
    "print(f'Max of the training data: {X_train.max()}')\n"
   ]
  },
  {
   "cell_type": "markdown",
   "metadata": {},
   "source": [
    "#### What is the distribution of the target variable?"
   ]
  },
  {
   "cell_type": "code",
   "execution_count": 7,
   "metadata": {},
   "outputs": [],
   "source": [
    "def plot_y_distribution(y):\n",
    "    ''' Plot the distribution of the labels '''\n",
    "    classes, classes_counts = np.unique(y, return_counts=True)\n",
    "\n",
    "    fig, ax = plt.subplots(figsize=(10, 6))\n",
    "    sns.barplot(x=classes, y=classes_counts, ax=ax);\n",
    "    ax.set_title('Class distribution', fontsize=16, fontweight='bold');\n",
    "    ax.set_ylabel('Count');\n",
    "    ax.set_xticklabels(NAMES);\n",
    "\n",
    "\n",
    "#plot_y_distribution(y_train)"
   ]
  },
  {
   "cell_type": "markdown",
   "metadata": {},
   "source": [
    "#### What are the properties of images in the dataset?\n",
    "We investigate mean, median, and stdev of the pixel values in the images."
   ]
  },
  {
   "cell_type": "code",
   "execution_count": 8,
   "metadata": {},
   "outputs": [],
   "source": [
    "def plot_images(X, y, measure='mean'):\n",
    "    ''' Plot the mean, median, or std of the images'''\n",
    "    classes = np.unique(y)\n",
    "    fig, ax = plt.subplots(1, len(classes), figsize=(20, 8))\n",
    "    for c in classes:\n",
    "        imgs = X[y == c]\n",
    "\n",
    "        if measure == 'mean': av_img = np.mean(imgs, axis=0).reshape(28, 28)\n",
    "        elif measure == 'median': av_img = np.median(imgs, axis=0).reshape(28, 28)\n",
    "        elif measure == 'std': av_img = np.std(imgs, axis=0).reshape(28, 28)\n",
    "\n",
    "        ax[c].imshow(av_img, cmap='gray')\n",
    "        ax[c].set_title(NAMES[c], fontsize=16, fontweight='bold')\n",
    "\n",
    "\n",
    "#plot_images(X_train, y_train)\n",
    "#plot_images(X_train, y_train, measure='std')\n",
    "#plot_images(X_train, y_train, measure='median')"
   ]
  },
  {
   "cell_type": "markdown",
   "metadata": {},
   "source": [
    "We also investigate the distribution of the pixel values in the images. As an input, we use the mean of the pixel values in the images."
   ]
  },
  {
   "cell_type": "code",
   "execution_count": 9,
   "metadata": {},
   "outputs": [],
   "source": [
    "def plot_color_distribution(X, y):\n",
    "    ''' Plot the distribution of the colors '''\n",
    "    classes = np.unique(y)\n",
    "    av_imgs = np.zeros((len(classes), 28, 28))\n",
    "    for c in classes:\n",
    "        imgs = X[y == c]\n",
    "        av_imgs[c] = np.mean(imgs, axis=0).reshape(28, 28)\n",
    "\n",
    "    #plot the distribution of the average image\n",
    "    fig, ax = plt.subplots(1, len(classes), figsize=(30, 6))\n",
    "    for c in classes:\n",
    "        sns.histplot(av_imgs[c].flatten(), ax=ax[c], kde=True)\n",
    "        ax[c].set_title(NAMES[c], fontsize=16, fontweight='bold')\n",
    "        ax[c].set_xlabel('Pixel value')\n",
    "        ax[c].set_ylabel('Count')\n",
    "\n",
    "#plot_color_distribution(X_train, y_train)"
   ]
  },
  {
   "cell_type": "markdown",
   "metadata": {},
   "source": [
    "# Neural Network"
   ]
  },
  {
   "cell_type": "code",
   "execution_count": 147,
   "metadata": {},
   "outputs": [],
   "source": [
    "\n",
    "class NeuralNetwork:\n",
    "    def __init__(self, input_size=784, hidden_size=300, output_size=5, layers_num=3, learning_rate=0.01, test=False):\n",
    "        self.input_size = input_size\n",
    "        self.output_size = output_size\n",
    "        self.hidden_size = hidden_size \n",
    "        self.layers_num = layers_num\n",
    "        self.lr = learning_rate\n",
    "\n",
    "        self.weights = []\n",
    "        self.bias = []\n",
    "\n",
    "        self.weights.append(np.random.randn(self.input_size, self.hidden_size))\n",
    "        self.bias.append(np.random.randn(1, self.hidden_size))\n",
    "\n",
    "        self.weights.append(np.random.randn(self.hidden_size, self.output_size))\n",
    "        self.bias.append(np.random.randn(1, self.output_size))\n",
    "\n",
    "\n",
    "    def sigmoid(self, x, Derivative=False):\n",
    "        ''' \n",
    "            sigmoid activation function and its derivative \n",
    "        '''\n",
    "        if not Derivative:\n",
    "            return 1 / (1 + np.exp (-x))\n",
    "        else:\n",
    "            out = self.sigmoid(x)\n",
    "            return out * (1 - out)\n",
    "        \n",
    "    def forward_pass(self, X):\n",
    "        ''' \n",
    "            conduct the forward pass on the network \n",
    "        '''\n",
    "        self.z1 = np.dot(X, self.weights[0]) + self.bias[0]\n",
    "        #print(X.shape, self.weights[0].shape, self.bias[0].shape)\n",
    "        self.a1 = self.sigmoid(self.z1)\n",
    "\n",
    "        self.z2 = np.dot(self.a1, self.weights[1]) + self.bias[1]\n",
    "        self.a2 = self.sigmoid(self.z2)\n",
    "\n",
    "        self.outputs = np.zeros((len(self.a2), self.output_size))\n",
    "        for i in range(len(self.a2)):\n",
    "            self.outputs[i][np.argmax(self.a2[i])] = 1\n",
    "\n",
    "        self.outputs = np.array(self.outputs)\n",
    "        #print(self.outputs)\n",
    "\n",
    "\n",
    "    def backward_pass(self, X, y):\n",
    "        '''\n",
    "            conduct the backward pass on the network\n",
    "        '''\n",
    "\n",
    "        y_mtrix = np.zeros((len(y), int(self.output_size))) \n",
    "        #change y into 1-hot encoding by assigning 1 to the index of the label\n",
    "        for i in range(len(y)):\n",
    "            y_mtrix[i][y[i]] = 1\n",
    "\n",
    "        #loss, used to check the accuracy of the network\n",
    "        self.loss = np.sum((self.outputs - y_mtrix)**2) / (2*y_mtrix.size)\n",
    "\n",
    "        #calculate the error of the output layer\n",
    "        self.e1 = self.a2 - y_mtrix\n",
    "        dw1 = self.e1 * self.sigmoid(self.a2, True)\n",
    "        \n",
    "        #calculate the error of the hidden layer\n",
    "        self.e2 = np.dot(dw1, self.weights[1].T)\n",
    "        dw2 = self.e2 * self.sigmoid(self.a1, True)\n",
    "\n",
    "        #update the weights\n",
    "        w2_update = np.dot(self.a1.T, dw1) / len(X)\n",
    "        w1_update = np.dot(X.T, dw2) / len(X)\n",
    "\n",
    "        #update the biases\n",
    "        #TODO\n",
    "\n",
    "        self.weights[1] = self.weights[1] - self.lr * w2_update\n",
    "        self.weights[0] = self.weights[0] - self.lr * w1_update\n",
    "        #self.dz2 = self.error * self.sigmoid(self.z2, True)\n",
    "\n",
    "        \n",
    "    def TRAIN(self, X, y, epochs=5, testing=False):\n",
    "        '''\n",
    "            train the network for a given number of epochs\n",
    "        '''\n",
    "        for epoch in range(epochs):\n",
    "            self.forward_pass(X)\n",
    "            self.backward_pass(X, y)\n",
    "            if testing: print(f'Epoch {epoch}, loss: {self.loss}')\n",
    "\n",
    "\n",
    "    "
   ]
  },
  {
   "cell_type": "code",
   "execution_count": 149,
   "metadata": {},
   "outputs": [
    {
     "name": "stdout",
     "output_type": "stream",
     "text": [
      "Epoch 0, loss: 0.15716\n",
      "Epoch 1, loss: 0.12902\n",
      "Epoch 2, loss: 0.15942\n",
      "Epoch 3, loss: 0.12986\n",
      "Epoch 4, loss: 0.1119\n",
      "Epoch 5, loss: 0.08586\n",
      "Epoch 6, loss: 0.12926\n",
      "Epoch 7, loss: 0.09808\n",
      "Epoch 8, loss: 0.0712\n",
      "Epoch 9, loss: 0.08672\n"
     ]
    }
   ],
   "source": [
    "nn = NeuralNetwork(test=True)\n",
    "nn.TRAIN(X_train, y_train, epochs=10, testing=True)\n"
   ]
  }
 ],
 "metadata": {
  "kernelspec": {
   "display_name": "Python 3.9.7 ('base')",
   "language": "python",
   "name": "python3"
  },
  "language_info": {
   "codemirror_mode": {
    "name": "ipython",
    "version": 3
   },
   "file_extension": ".py",
   "mimetype": "text/x-python",
   "name": "python",
   "nbconvert_exporter": "python",
   "pygments_lexer": "ipython3",
   "version": "3.9.7"
  },
  "orig_nbformat": 4,
  "vscode": {
   "interpreter": {
    "hash": "ef166213a119dea7a0b1a64e774e94a94a893f8530fa4c669d6e23575311d886"
   }
  }
 },
 "nbformat": 4,
 "nbformat_minor": 2
}
