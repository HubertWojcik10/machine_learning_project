{
 "cells": [
  {
   "cell_type": "code",
   "execution_count": 56,
   "metadata": {},
   "outputs": [],
   "source": [
    "import numpy as np\n",
    "import pandas as pd\n",
    "import matplotlib.pyplot as plt\n",
    "import seaborn as sns\n",
    "import warnings"
   ]
  },
  {
   "cell_type": "code",
   "execution_count": 57,
   "metadata": {},
   "outputs": [],
   "source": [
    "warnings.filterwarnings('ignore')"
   ]
  },
  {
   "cell_type": "code",
   "execution_count": 45,
   "metadata": {},
   "outputs": [],
   "source": [
    "sns.set_theme(style='whitegrid')"
   ]
  },
  {
   "cell_type": "markdown",
   "metadata": {},
   "source": [
    "#### Define global variables"
   ]
  },
  {
   "cell_type": "code",
   "execution_count": 50,
   "metadata": {},
   "outputs": [],
   "source": [
    "NAMES = ['T-shirt/top', 'Trouser', 'Pullover', 'Dress', 'Shirt']"
   ]
  },
  {
   "cell_type": "markdown",
   "metadata": {},
   "source": [
    "## Load the data"
   ]
  },
  {
   "cell_type": "code",
   "execution_count": 46,
   "metadata": {},
   "outputs": [],
   "source": [
    "train = np.load('fashion_train.npy')\n",
    "test = np.load('fashion_test.npy')\n",
    "\n",
    "X_train, y_train = train[:, :784], train[:, 784]\n",
    "X_test, y_test = test[:, :784], test[:, 784]"
   ]
  },
  {
   "cell_type": "markdown",
   "metadata": {},
   "source": [
    "# Exploratory Data Analysis"
   ]
  },
  {
   "cell_type": "markdown",
   "metadata": {},
   "source": [
    "#### Numerical variables"
   ]
  },
  {
   "cell_type": "code",
   "execution_count": 83,
   "metadata": {},
   "outputs": [
    {
     "name": "stdout",
     "output_type": "stream",
     "text": [
      "Shape of the training data:  (10000, 784)\n",
      "Shape of the testing data:  (5000, 784)\n",
      "Mean of the training data:  77.02673711734694\n",
      "Std of the training data:  89.9969501937854\n",
      "Min of the training data:  0\n",
      "Max of the training data:  255\n"
     ]
    }
   ],
   "source": [
    "#shape of the data\n",
    "print('Shape of the training data: ', X_train.shape)\n",
    "print('Shape of the testing data: ', X_test.shape)\n",
    "\n",
    "#mean, std, min, max\n",
    "print('Mean of the training data: ', X_train.mean())\n",
    "print('Std of the training data: ', X_train.std())\n",
    "print('Min of the training data: ', X_train.min())\n",
    "print('Max of the training data: ', X_train.max())\n"
   ]
  },
  {
   "cell_type": "markdown",
   "metadata": {},
   "source": [
    "#### What is the distribution of the target variable?"
   ]
  },
  {
   "cell_type": "code",
   "execution_count": 71,
   "metadata": {},
   "outputs": [],
   "source": [
    "def plot_y_distribution(y):\n",
    "    classes, classes_counts = np.unique(y, return_counts=True)\n",
    "\n",
    "    fig, ax = plt.subplots(figsize=(10, 6))\n",
    "    sns.barplot(x=classes, y=classes_counts, ax=ax);\n",
    "    ax.set_title('Class distribution', fontsize=16, fontweight='bold');\n",
    "    ax.set_ylabel('Count');\n",
    "    ax.set_xticklabels(NAMES);\n",
    "\n",
    "\n",
    "#plot_y_distribution(y_train)"
   ]
  },
  {
   "cell_type": "markdown",
   "metadata": {},
   "source": [
    "#### What are the properties of images in the dataset?\n",
    "We investigate mean, median, and stdev of the pixel values in the images."
   ]
  },
  {
   "cell_type": "code",
   "execution_count": 81,
   "metadata": {},
   "outputs": [],
   "source": [
    "def plot_images(X, measure='mean'):\n",
    "    classes = np.unique(y_train)\n",
    "    fig, ax = plt.subplots(1, len(classes), figsize=(20, 8))\n",
    "    for c in classes:\n",
    "        imgs = X[y_train == c]\n",
    "\n",
    "        if measure == 'mean': av_img = np.mean(imgs, axis=0).reshape(28, 28)\n",
    "        elif measure == 'median': av_img = np.median(imgs, axis=0).reshape(28, 28)\n",
    "        elif measure == 'std': av_img = np.std(imgs, axis=0).reshape(28, 28)\n",
    "\n",
    "        ax[c].imshow(av_img, cmap='gray')\n",
    "        ax[c].set_title(NAMES[c], fontsize=16, fontweight='bold')\n",
    "\n",
    "\n",
    "#plot_images(X_train)\n",
    "#plot_images(X_train, measure='std')\n",
    "#plot_images(X_train, measure='median')"
   ]
  },
  {
   "cell_type": "code",
   "execution_count": null,
   "metadata": {},
   "outputs": [],
   "source": []
  },
  {
   "cell_type": "code",
   "execution_count": null,
   "metadata": {},
   "outputs": [],
   "source": []
  }
 ],
 "metadata": {
  "kernelspec": {
   "display_name": "Python 3.9.7 ('base')",
   "language": "python",
   "name": "python3"
  },
  "language_info": {
   "codemirror_mode": {
    "name": "ipython",
    "version": 3
   },
   "file_extension": ".py",
   "mimetype": "text/x-python",
   "name": "python",
   "nbconvert_exporter": "python",
   "pygments_lexer": "ipython3",
   "version": "3.9.7"
  },
  "orig_nbformat": 4,
  "vscode": {
   "interpreter": {
    "hash": "ef166213a119dea7a0b1a64e774e94a94a893f8530fa4c669d6e23575311d886"
   }
  }
 },
 "nbformat": 4,
 "nbformat_minor": 2
}
